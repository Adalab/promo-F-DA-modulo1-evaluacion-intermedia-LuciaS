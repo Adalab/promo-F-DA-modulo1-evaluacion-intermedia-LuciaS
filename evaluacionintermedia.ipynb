{
 "cells": [
  {
   "cell_type": "code",
   "execution_count": null,
   "metadata": {},
   "outputs": [],
   "source": []
  },
  {
   "cell_type": "markdown",
   "metadata": {},
   "source": [
    "Parte 1: Strings"
   ]
  },
  {
   "cell_type": "markdown",
   "metadata": {},
   "source": [
    "1. Dada una cadena de texto, contar cuántas veces aparece una letra específica en ella. Usa un input para que el usuario elija la letra a buscar\n",
    "\n",
    "cadena = \"Python es un lenguaje de programación muy popular\""
   ]
  },
  {
   "cell_type": "code",
   "execution_count": 268,
   "metadata": {},
   "outputs": [
    {
     "name": "stdout",
     "output_type": "stream",
     "text": [
      "2\n"
     ]
    }
   ],
   "source": [
    "cadena = \"Python es un lenguaje de programación muy popular\"\n",
    "cadenamayus = \"Python es un lenguaje de programación muy popular\".upper()\n",
    "eligeunaletra = input(\"Elige una letra\")\n",
    "#preguntamos por la letra\n",
    "eligeunaletramayus = eligeunaletra.upper()\n",
    "#hemos pasado a mayusculas para que cuente todas las letras\n",
    "numeroveces = cadenamayus.count(eligeunaletramayus)\n",
    "#utilizamos count para contar las letras\n",
    "print(numeroveces)\n"
   ]
  },
  {
   "cell_type": "markdown",
   "metadata": {},
   "source": [
    "2.Escribe un programa que tome la siguiente cadena de texto y reemplace una palabra específica por otra palabra. La palabra a reemplazar y reemplazada deben ser elegidas por el usuario.\n",
    "cadena = \"Python es genial. Python es fácil de aprender."
   ]
  },
  {
   "cell_type": "code",
   "execution_count": 14,
   "metadata": {},
   "outputs": [
    {
     "data": {
      "text/plain": [
       "'Python es genial. Python es complejo de aprender'"
      ]
     },
     "execution_count": 14,
     "metadata": {},
     "output_type": "execute_result"
    }
   ],
   "source": [
    "cadena1 = \"Python es genial. Python es fácil de aprender\"\n",
    "#sustituimos facil utilizando replace\n",
    "cadena2 = \"Python es genial. Python es fácil de aprender\".replace(\"fácil\", \"complejo\")\n",
    "cadena2"
   ]
  },
  {
   "cell_type": "markdown",
   "metadata": {},
   "source": [
    "3. Toma la siguiente oración y divídela en una lista de palabras. Luego, únelas nuevamente en una sola cadena de texto.\n",
    "oracion = \"Esto es una oración de ejemplo\""
   ]
  },
  {
   "cell_type": "code",
   "execution_count": 19,
   "metadata": {},
   "outputs": [
    {
     "data": {
      "text/plain": [
       "['Esto', 'es', 'una', 'oración', 'de', 'ejemplo']"
      ]
     },
     "execution_count": 19,
     "metadata": {},
     "output_type": "execute_result"
    }
   ],
   "source": [
    "oracion = \"Esto es una oración de ejemplo\"\n",
    "#para dividir en una lista\n",
    "oracionlis = oracion.split()\n"
   ]
  },
  {
   "cell_type": "code",
   "execution_count": 29,
   "metadata": {},
   "outputs": [
    {
     "data": {
      "text/plain": [
       "'Esto es una oración de ejemplo'"
      ]
     },
     "execution_count": 29,
     "metadata": {},
     "output_type": "execute_result"
    }
   ],
   "source": [
    "#vamos a volver a juntar\n",
    "\n",
    "juntar = \" \".join(oracionlis)\n",
    "juntar\n"
   ]
  },
  {
   "cell_type": "markdown",
   "metadata": {},
   "source": [
    "4.Desarrolla un programa que cuente cuántas palabras hay en la siguiente frase.\n",
    "cadena = \"Esta es una cadena con cinco palabras\""
   ]
  },
  {
   "cell_type": "code",
   "execution_count": 36,
   "metadata": {},
   "outputs": [
    {
     "data": {
      "text/plain": [
       "7"
      ]
     },
     "execution_count": 36,
     "metadata": {},
     "output_type": "execute_result"
    }
   ],
   "source": [
    "cadenaejemplo= \"Esta es una cadena con cinco palabras\"\n",
    "cadenaejemplo1 = cadenaejemplo.split()\n",
    "#hemos pasado la cadena a una lista con elementos\n",
    "cadenaejemplo1\n",
    "#después hemos utilizado len para contar elementos\n",
    "len(cadenaejemplo1)"
   ]
  },
  {
   "cell_type": "markdown",
   "metadata": {},
   "source": [
    "5. Escribe un programa que invierta una cadena de texto dada por un usuario. Mira el siguiente ejemplo para entender lo que se pide:\n",
    "\n"
   ]
  },
  {
   "cell_type": "code",
   "execution_count": 45,
   "metadata": {},
   "outputs": [
    {
     "data": {
      "text/plain": [
       "'? estás tal qué ¿ hola,'"
      ]
     },
     "execution_count": 45,
     "metadata": {},
     "output_type": "execute_result"
    }
   ],
   "source": [
    "saludo = \"hola, ¿ qué tal estás ?\"\n",
    "#pasamos a lista para poder invertir\n",
    "saludolista = saludo.split()\n",
    "#invertimos\n",
    "saludolista.reverse()\n",
    "saludolista\n",
    "# juntamos como cadena\n",
    "saludolistast= \" \".join(saludolista)\n",
    "saludolistast"
   ]
  },
  {
   "cell_type": "markdown",
   "metadata": {},
   "source": [
    "Crea un programa que busque una palabra específica(elegida por la usuaria) en una cadena de texto e indique su posición. NO ESTÁ"
   ]
  },
  {
   "cell_type": "code",
   "execution_count": 271,
   "metadata": {},
   "outputs": [],
   "source": [
    "frase= \"estamos haciendo una prueba\"\n",
    "eligeunapalabra = input(\"Elige una palabra: estamos haciendo una prueba\")\n",
    "palabraespecifica= frase.index(eligeunapalabra)\n",
    "\n"
   ]
  },
  {
   "cell_type": "markdown",
   "metadata": {},
   "source": [
    "PARTE 2"
   ]
  },
  {
   "cell_type": "markdown",
   "metadata": {},
   "source": [
    "Dada la siguiente lista: frutas = ['manzana', 'pera', 'banana', 'uva', 'kiwi'], realiza lo siguiente:\n",
    "a) Reemplaza el segundo elemento con 'durazno'.\n",
    "b) Agrega 'naranja' al final de la lista.\n",
    "c) Extrae y muestra por pantalla el tercer elemento de la lista"
   ]
  },
  {
   "cell_type": "code",
   "execution_count": 272,
   "metadata": {},
   "outputs": [
    {
     "data": {
      "text/plain": [
       "['manzana', 'durazno', 'banana', 'uva', 'kiwi', 'narajas']"
      ]
     },
     "execution_count": 272,
     "metadata": {},
     "output_type": "execute_result"
    }
   ],
   "source": [
    "frutas = ['manzana', 'pera', 'banana', 'uva', 'kiwi']\n",
    "frutas[1] = \"durazno\"\n",
    "frutas.append(\"narajas\")\n",
    "frutas"
   ]
  },
  {
   "cell_type": "code",
   "execution_count": 273,
   "metadata": {},
   "outputs": [
    {
     "data": {
      "text/plain": [
       "'banana'"
      ]
     },
     "execution_count": 273,
     "metadata": {},
     "output_type": "execute_result"
    }
   ],
   "source": [
    "frutas[2]"
   ]
  },
  {
   "cell_type": "markdown",
   "metadata": {},
   "source": [
    "1..Crea una lista llamada numeros que contenga los siguientes valores: 10, 25, 15, 30, 20. 2. Agrega el valor 35 al incio de la lista numeros"
   ]
  },
  {
   "cell_type": "code",
   "execution_count": 81,
   "metadata": {},
   "outputs": [
    {
     "data": {
      "text/plain": [
       "[35, 10, 25, 15, 30, 20]"
      ]
     },
     "execution_count": 81,
     "metadata": {},
     "output_type": "execute_result"
    }
   ],
   "source": [
    "numeros= [10, 25, 15, 30, 20]\n",
    "numeros\n",
    "numeros.insert(0,35)\n",
    "numeros"
   ]
  },
  {
   "cell_type": "markdown",
   "metadata": {},
   "source": [
    "3. Ordena la lista numeros en orden ascendente."
   ]
  },
  {
   "cell_type": "code",
   "execution_count": 88,
   "metadata": {},
   "outputs": [
    {
     "data": {
      "text/plain": [
       "[10, 15, 20, 25, 30, 35]"
      ]
     },
     "execution_count": 88,
     "metadata": {},
     "output_type": "execute_result"
    }
   ],
   "source": [
    "numeros.sort()\n",
    "numeros\n"
   ]
  },
  {
   "cell_type": "markdown",
   "metadata": {},
   "source": [
    "Dada la siguiente lista numeros2 = [45, 22, 19, 38, 29]. Crea una nueva lista llamada numeros3 donde tengamos la unión de los todos los elementos de las dos listas (numeros y numeros2) de tal forma que el resultado final sea:\n",
    "numeros3 = [10, 25, 15, 30, 20, 45, 22, 19, 38, 29]"
   ]
  },
  {
   "cell_type": "code",
   "execution_count": 92,
   "metadata": {},
   "outputs": [
    {
     "data": {
      "text/plain": [
       "[10, 25, 15, 30, 20, 45, 22, 19, 38, 29]"
      ]
     },
     "execution_count": 92,
     "metadata": {},
     "output_type": "execute_result"
    }
   ],
   "source": [
    "lista_numero2 = [45, 22, 19, 38, 29]\n",
    "lista_numero1= [10, 25, 15, 30, 20]\n",
    "listanumero3 = lista_numero1 + lista_numero2\n",
    "listanumero3\n"
   ]
  },
  {
   "cell_type": "code",
   "execution_count": null,
   "metadata": {},
   "outputs": [],
   "source": [
    "Elimina el último elemento de la lista numeros3."
   ]
  },
  {
   "cell_type": "code",
   "execution_count": 93,
   "metadata": {},
   "outputs": [
    {
     "data": {
      "text/plain": [
       "[10, 25, 15, 30, 20, 45, 22, 19, 38]"
      ]
     },
     "execution_count": 93,
     "metadata": {},
     "output_type": "execute_result"
    }
   ],
   "source": [
    "listanumero3.pop()\n",
    "listanumero3"
   ]
  },
  {
   "cell_type": "markdown",
   "metadata": {},
   "source": [
    "Elimina el número 30 de la lista numeros3."
   ]
  },
  {
   "cell_type": "code",
   "execution_count": 95,
   "metadata": {},
   "outputs": [
    {
     "data": {
      "text/plain": [
       "[10, 25, 15, 45, 22, 19, 38]"
      ]
     },
     "execution_count": 95,
     "metadata": {},
     "output_type": "execute_result"
    }
   ],
   "source": [
    "listanumero3.pop(3)\n",
    "listanumero3\n"
   ]
  },
  {
   "cell_type": "markdown",
   "metadata": {},
   "source": [
    "Parte 3: Tuplas"
   ]
  },
  {
   "cell_type": "markdown",
   "metadata": {},
   "source": [
    "1. Crea una tupla llamada colores que contenga los siguientes valores: 'rojo', 'verde', 'azul', 'amarillo', 'morado'.\n"
   ]
  },
  {
   "cell_type": "code",
   "execution_count": 96,
   "metadata": {},
   "outputs": [],
   "source": [
    "tupla_colores= (\"rojo\", \"verde\", \"azul\", \"amarillo\", \"morado\")"
   ]
  },
  {
   "cell_type": "markdown",
   "metadata": {},
   "source": [
    "2. Encuentra el índice de 'verde' en la tupla colores.\n",
    "\n"
   ]
  },
  {
   "cell_type": "code",
   "execution_count": 97,
   "metadata": {},
   "outputs": [
    {
     "data": {
      "text/plain": [
       "1"
      ]
     },
     "execution_count": 97,
     "metadata": {},
     "output_type": "execute_result"
    }
   ],
   "source": [
    "tupla_colores.index(\"verde\")\n"
   ]
  },
  {
   "cell_type": "markdown",
   "metadata": {},
   "source": [
    "¿Cuántas veces aparece 'azul' en la tupla colores?"
   ]
  },
  {
   "cell_type": "code",
   "execution_count": 98,
   "metadata": {},
   "outputs": [
    {
     "data": {
      "text/plain": [
       "1"
      ]
     },
     "execution_count": 98,
     "metadata": {},
     "output_type": "execute_result"
    }
   ],
   "source": [
    "tupla_colores.count(\"azul\") "
   ]
  },
  {
   "cell_type": "markdown",
   "metadata": {},
   "source": [
    "Añade el color \"morado\" a la tupla colores. ¿Qué ha pasado? ¿Por qué? Como podríamos añadir el elemento \"morado\". PENDIENTE DESARROLLO"
   ]
  },
  {
   "cell_type": "code",
   "execution_count": 281,
   "metadata": {},
   "outputs": [
    {
     "data": {
      "text/plain": [
       "('m', 'o', 'r', 'a', 'd', 'o')"
      ]
     },
     "execution_count": 281,
     "metadata": {},
     "output_type": "execute_result"
    }
   ],
   "source": [
    "#como no se pueden modificar, podríamos pasar la tupla a lista. Añadirlo y después volver a tupla.\n",
    "listatuplacolores = list(tupla_colores)\n"
   ]
  },
  {
   "cell_type": "markdown",
   "metadata": {},
   "source": [
    "Parte 4: Diccionarios"
   ]
  },
  {
   "cell_type": "markdown",
   "metadata": {},
   "source": [
    "\n",
    "Crea un diccionario llamado frutas con las siguientes parejas clave-valor:\n",
    "'manzana': 2\n",
    "'banana': 3\n",
    "'uva': 5\n",
    "'pera': 4"
   ]
  },
  {
   "cell_type": "code",
   "execution_count": 109,
   "metadata": {},
   "outputs": [
    {
     "data": {
      "text/plain": [
       "{'manzana': 2, 'banana': 3, 'uva': 5, 'pera': 4}"
      ]
     },
     "execution_count": 109,
     "metadata": {},
     "output_type": "execute_result"
    }
   ],
   "source": [
    "dic_frutas ={'manzana': 2, 'banana': 3, 'uva': 5, 'pera': 4}\n",
    "dic_frutas"
   ]
  },
  {
   "cell_type": "markdown",
   "metadata": {},
   "source": [
    "Saca una lista de todas las frutas en el diccionario."
   ]
  },
  {
   "cell_type": "code",
   "execution_count": 117,
   "metadata": {},
   "outputs": [
    {
     "data": {
      "text/plain": [
       "['manzana', 'banana', 'uva', 'pera']"
      ]
     },
     "execution_count": 117,
     "metadata": {},
     "output_type": "execute_result"
    }
   ],
   "source": [
    "listanombrefrutas = dic_frutas.keys()\n",
    "list(listanombrefrutas)"
   ]
  },
  {
   "cell_type": "markdown",
   "metadata": {},
   "source": [
    "Saca una lista de todas las cantidades en el diccionario"
   ]
  },
  {
   "cell_type": "code",
   "execution_count": 116,
   "metadata": {},
   "outputs": [
    {
     "data": {
      "text/plain": [
       "[2, 3, 5, 4]"
      ]
     },
     "execution_count": 116,
     "metadata": {},
     "output_type": "execute_result"
    }
   ],
   "source": [
    "listanumerofrutas = dic_frutas.values()\n",
    "list(listanumerofrutas)"
   ]
  },
  {
   "cell_type": "markdown",
   "metadata": {},
   "source": [
    "4. Qué cantidad de 'manzana' tenemos?. Si la clave 'manzana' no está presente, devuelve un mensaje diciendo \"No existe esa clave\"."
   ]
  },
  {
   "cell_type": "code",
   "execution_count": 118,
   "metadata": {},
   "outputs": [
    {
     "data": {
      "text/plain": [
       "2"
      ]
     },
     "execution_count": 118,
     "metadata": {},
     "output_type": "execute_result"
    }
   ],
   "source": [
    "dic_frutas.get(\"manzana\", \"No existe esa clave\")"
   ]
  },
  {
   "cell_type": "markdown",
   "metadata": {},
   "source": [
    "5. Agrega un nuevo par de clave-valor al diccionario frutas: 'kiwi' con una cantidad de 6\n"
   ]
  },
  {
   "cell_type": "code",
   "execution_count": 286,
   "metadata": {},
   "outputs": [
    {
     "data": {
      "text/plain": [
       "{'manzana': 2, 'banana': 3, 'uva': 5, 'pera': 4, 'kiwi': 6}"
      ]
     },
     "execution_count": 286,
     "metadata": {},
     "output_type": "execute_result"
    }
   ],
   "source": [
    "dic_frutas.update({\"kiwi\" : 6})\n",
    "dic_frutas"
   ]
  },
  {
   "cell_type": "markdown",
   "metadata": {},
   "source": [
    "6. Cambia la cantidad de 'uva' a 8."
   ]
  },
  {
   "cell_type": "code",
   "execution_count": 294,
   "metadata": {},
   "outputs": [
    {
     "data": {
      "text/plain": [
       "{'manzana': 2, 'banana': 3, 'uva': 8, 'pera': 4, 'kiwi': 6}"
      ]
     },
     "execution_count": 294,
     "metadata": {},
     "output_type": "execute_result"
    }
   ],
   "source": [
    "nuevodic_frutas = dic_frutas.copy()\n",
    "\n",
    "nuevodic_frutas.update({\"uva\": 8})\n",
    "nuevodic_frutas"
   ]
  },
  {
   "cell_type": "markdown",
   "metadata": {},
   "source": [
    "Crea un segundo diccionario llamado frutas_nuevas con las siguientes parejas clave-valor:\n",
    "'sandía': 7\n",
    "'mango': 4"
   ]
  },
  {
   "cell_type": "code",
   "execution_count": 295,
   "metadata": {},
   "outputs": [
    {
     "data": {
      "text/plain": [
       "{'sandia': 7, 'mango': 4}"
      ]
     },
     "execution_count": 295,
     "metadata": {},
     "output_type": "execute_result"
    }
   ],
   "source": [
    "frutas_nuevas = {\"sandia\" : 7, \"mango\" : 4}\n",
    "frutas_nuevas"
   ]
  },
  {
   "cell_type": "markdown",
   "metadata": {},
   "source": [
    "8. Combinar los dos diccionarios frutas_nuevas y frutas en uno nuevos llamado frutas_total\n",
    "\n"
   ]
  },
  {
   "cell_type": "code",
   "execution_count": 297,
   "metadata": {},
   "outputs": [
    {
     "data": {
      "text/plain": [
       "{'manzana': 2,\n",
       " 'banana': 3,\n",
       " 'uva': 8,\n",
       " 'pera': 4,\n",
       " 'kiwi': 6,\n",
       " 'sandia': 7,\n",
       " 'mango': 4}"
      ]
     },
     "execution_count": 297,
     "metadata": {},
     "output_type": "execute_result"
    }
   ],
   "source": [
    "nuevodic_frutas.update(frutas_nuevas)\n",
    "frutas_total = nuevodic_frutas.copy() \n",
    "frutas_total"
   ]
  },
  {
   "cell_type": "markdown",
   "metadata": {},
   "source": [
    "9. Elimina el último par de clave-valor del diccionario fruta_total."
   ]
  },
  {
   "cell_type": "code",
   "execution_count": 290,
   "metadata": {},
   "outputs": [
    {
     "data": {
      "text/plain": [
       "('mango', 4)"
      ]
     },
     "execution_count": 290,
     "metadata": {},
     "output_type": "execute_result"
    }
   ],
   "source": [
    "frutas_total.popitem()\n"
   ]
  },
  {
   "cell_type": "markdown",
   "metadata": {},
   "source": [
    "Elimina el par de clave-valor correspondiente a la clave 'uva' del diccionario."
   ]
  },
  {
   "cell_type": "code",
   "execution_count": 298,
   "metadata": {},
   "outputs": [
    {
     "data": {
      "text/plain": [
       "{'manzana': 2, 'banana': 3, 'pera': 4, 'kiwi': 6, 'sandia': 7, 'mango': 4}"
      ]
     },
     "execution_count": 298,
     "metadata": {},
     "output_type": "execute_result"
    }
   ],
   "source": [
    "frutas_total.pop(\"uva\")\n",
    "frutas_total"
   ]
  },
  {
   "cell_type": "markdown",
   "metadata": {},
   "source": [
    "Agregar la fruta 'manzana' con una cantidad de 10 al diccionario. Si ya existe, no se realizarán cambios en los valores que teníamos."
   ]
  },
  {
   "cell_type": "code",
   "execution_count": 299,
   "metadata": {},
   "outputs": [
    {
     "data": {
      "text/plain": [
       "2"
      ]
     },
     "execution_count": 299,
     "metadata": {},
     "output_type": "execute_result"
    }
   ],
   "source": [
    "frutas_total\n",
    "frutas_total.setdefault(\"manzana\", 10)"
   ]
  },
  {
   "cell_type": "markdown",
   "metadata": {},
   "source": [
    "Combinar métodos de listas y diccionarios:\n",
    "Obtén una lista de todas las cantidades en el diccionario y calcula suma total de las cantidades del diccionario frutas_total.\n",
    "Utilizando la lista creada en el apartado anterior encuentra la cantidad más grande y más pequeña."
   ]
  },
  {
   "cell_type": "code",
   "execution_count": 307,
   "metadata": {},
   "outputs": [
    {
     "name": "stdout",
     "output_type": "stream",
     "text": [
      "26\n"
     ]
    }
   ],
   "source": [
    "frutas_total\n",
    "cantidades = frutas_total.values()\n",
    "listacantidades = list(cantidades)\n",
    "listacantidades\n",
    "total= (sum(listacantidades))\n",
    "print(total)\n",
    "\n"
   ]
  },
  {
   "cell_type": "markdown",
   "metadata": {},
   "source": [
    "Parte 5: Métodos de Sets\n",
    "Crea un set llamado conjunto1 con los números del 1 al 5.\n",
    "Crea otro set llamado conjunto2 con los números del 4 al 8.\n",
    "Obtén la unión de conjunto1 y conjunto2.\n",
    "Obtén la intersección de conjunto1 y conjunto2.\n",
    "Obtén los elementos que están en conjunto1 pero no en el conjunto2"
   ]
  },
  {
   "cell_type": "code",
   "execution_count": 182,
   "metadata": {},
   "outputs": [
    {
     "data": {
      "text/plain": [
       "{'1', '2', '3', '4', '5', '6', '7', '8'}"
      ]
     },
     "execution_count": 182,
     "metadata": {},
     "output_type": "execute_result"
    }
   ],
   "source": [
    "conjunto1 = {\"1\", \"2\", \"3\", \"4\", \"5\"}\n",
    "conjunto2 = {\"4\", \"5\", \"6\", \"7\", \"8\"}\n",
    "\n",
    "conjuntounion = conjunto1.union(conjunto2)\n",
    "conjuntounion"
   ]
  },
  {
   "cell_type": "code",
   "execution_count": null,
   "metadata": {},
   "outputs": [],
   "source": []
  },
  {
   "cell_type": "code",
   "execution_count": null,
   "metadata": {},
   "outputs": [],
   "source": [
    "Obtén la intersección de conjunto1 y conjunto2"
   ]
  },
  {
   "cell_type": "code",
   "execution_count": 184,
   "metadata": {},
   "outputs": [
    {
     "data": {
      "text/plain": [
       "{'4', '5'}"
      ]
     },
     "execution_count": 184,
     "metadata": {},
     "output_type": "execute_result"
    }
   ],
   "source": [
    "conjuntointer = conjunto1.intersection(conjunto2)\n",
    "conjuntointer"
   ]
  },
  {
   "cell_type": "markdown",
   "metadata": {},
   "source": [
    "Obtén los elementos que están en conjunto1 pero no en el conjunto2"
   ]
  },
  {
   "cell_type": "code",
   "execution_count": 193,
   "metadata": {},
   "outputs": [
    {
     "name": "stdout",
     "output_type": "stream",
     "text": [
      "{'1', '2', '3'}\n"
     ]
    }
   ],
   "source": [
    "conjuntodife = conjunto1.difference(conjunto2)\n",
    "print(conjuntodife)"
   ]
  },
  {
   "cell_type": "markdown",
   "metadata": {},
   "source": [
    "Parte 6: Sentencias de Control\n",
    "Ejercicio 1: Evaluación de Edades:\n",
    "Escribe un programa que solicite al usuario ingresar su edad.\n",
    "Si la edad es menor de 18, muestra \"Eres menor de edad\".\n",
    "Si la edad está entre 18 y 65 (incluyendo ambos extremos), muestra \"Eres adulto\".\n",
    "Si la edad es mayor o igual a 65, muestra \"Eres un adulto mayor\"."
   ]
  },
  {
   "cell_type": "code",
   "execution_count": 309,
   "metadata": {},
   "outputs": [
    {
     "name": "stdout",
     "output_type": "stream",
     "text": [
      "eres menor de edad\n"
     ]
    }
   ],
   "source": [
    "preguntaaños =int(input(\"qué edad tienes\"))\n",
    "preguntaaños\n",
    "if preguntaaños < 18:\n",
    "    print(\"eres menor de edad\")\n",
    "elif preguntaaños >= 18 and preguntaaños <= 65:\n",
    "     print(\"eres adulto\")\n",
    "else:\n",
    "     print(\"eres adulto mayor\")\n",
    "\n"
   ]
  },
  {
   "cell_type": "markdown",
   "metadata": {},
   "source": [
    "Ejercicio 2: Determinación de Día de la Semana\n",
    "Solicita al usuario que ingrese un número del 1 al 7.\n",
    "Utilizando una serie de if-elif-else, muestra el día de la semana correspondiente al número ingresado. Por ejemplo, si ingresa 1, muestra \"Lunes\"."
   ]
  },
  {
   "cell_type": "code",
   "execution_count": 314,
   "metadata": {},
   "outputs": [
    {
     "name": "stdout",
     "output_type": "stream",
     "text": [
      "es domingo\n"
     ]
    }
   ],
   "source": [
    "numero17= int(input(\"indica numero del 1 al 7\"))\n",
    "numero17\n",
    "if numero17 == 1:\n",
    "   print(\"lunes\")\n",
    "elif numero17 == 2:\n",
    "   print(\"martes\")\n",
    "elif numero17 == 3:\n",
    "   print(\"es miércoles\")\n",
    "elif numero17 == 4:\n",
    "   print(\"es jueves\")\n",
    "elif numero17 == 5:\n",
    "    print(\"es viernes\")\n",
    "elif numero17== 6:\n",
    "    print(\"es sabado\")\n",
    "elif numero17 == 7:\n",
    "    print(\"es domingo\")\n",
    "else:\n",
    "    print(\"Introduce un número del 1 al 7\")"
   ]
  },
  {
   "cell_type": "markdown",
   "metadata": {},
   "source": [
    "Ejercicio 3: Juego de Adivinanza\n",
    "Genera un número aleatorio entre 1 y 100.\n",
    "Pídele al usuario que adivine el número.\n",
    "Si el usuario adivina correctamente en el primer intento, muestra \"¡Ganaste en el primer intento!\".\n",
    "Si el usuario no adivina en el primer intento, bríndale pistas (mayor o menor) y permite que intente nuevamente. Muestra cuántos intentos le llevó al final."
   ]
  },
  {
   "cell_type": "code",
   "execution_count": 240,
   "metadata": {},
   "outputs": [
    {
     "name": "stdout",
     "output_type": "stream",
     "text": [
      "50\n"
     ]
    }
   ],
   "source": [
    "import random\n",
    "print(random.randint(1,100))\n"
   ]
  },
  {
   "cell_type": "code",
   "execution_count": 243,
   "metadata": {},
   "outputs": [
    {
     "data": {
      "text/plain": [
       "51"
      ]
     },
     "execution_count": 243,
     "metadata": {},
     "output_type": "execute_result"
    }
   ],
   "source": [
    "adivinanumero = 51\n",
    "adivinanumero"
   ]
  },
  {
   "cell_type": "code",
   "execution_count": 267,
   "metadata": {},
   "outputs": [
    {
     "name": "stdout",
     "output_type": "stream",
     "text": [
      "es un numero menor\n"
     ]
    }
   ],
   "source": [
    "Preguntausuario = int(input(\"¿te atreves a adivinar el numero\"))\n",
    "if Preguntausuario == adivinanumero:\n",
    "    print(\"ganaste en el primer intento\")\n",
    "elif Preguntausuario > adivinanumero:\n",
    "    print(\"es un numero menor\")\n",
    "elif Preguntausuario < adivinanumero:\n",
    "     print(\"el numero es mayor\")\n",
    "\n",
    "\n",
    "       \n",
    "\n",
    "\n"
   ]
  }
 ],
 "metadata": {
  "kernelspec": {
   "display_name": "base",
   "language": "python",
   "name": "python3"
  },
  "language_info": {
   "codemirror_mode": {
    "name": "ipython",
    "version": 3
   },
   "file_extension": ".py",
   "mimetype": "text/x-python",
   "name": "python",
   "nbconvert_exporter": "python",
   "pygments_lexer": "ipython3",
   "version": "3.9.7"
  }
 },
 "nbformat": 4,
 "nbformat_minor": 2
}
